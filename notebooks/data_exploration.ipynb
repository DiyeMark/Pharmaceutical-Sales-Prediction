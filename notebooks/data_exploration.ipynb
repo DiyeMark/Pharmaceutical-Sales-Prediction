{
 "cells": [
  {
   "cell_type": "code",
   "execution_count": 20,
   "outputs": [],
   "source": [
    "# linear algebra and data processing\n",
    "import numpy as np\n",
    "import pandas as pd\n",
    "\n",
    "# visualisations\n",
    "import seaborn as sns\n",
    "import matplotlib.pyplot as plt\n",
    "\n",
    "# logging\n",
    "import logging\n",
    "logging.basicConfig(level=logging.DEBUG, format='%(asctime)s - %(name)s - %(levelname)s - %(message)s')"
   ],
   "metadata": {
    "collapsed": false,
    "pycharm": {
     "name": "#%%\n"
    }
   }
  },
  {
   "cell_type": "markdown",
   "source": [
    "<h3>Data</h3>"
   ],
   "metadata": {
    "collapsed": false,
    "pycharm": {
     "name": "#%% md\n"
    }
   }
  },
  {
   "cell_type": "code",
   "execution_count": 26,
   "outputs": [],
   "source": [
    "train_df = pd.read_csv('../data/train.csv', dtype={'StateHoliday': object})\n",
    "test_df = pd.read_csv('../data/test.csv')\n",
    "store_df = pd.read_csv('../data/store.csv')\n",
    "submission_df = pd.read_csv('../data/sample_submission.csv')"
   ],
   "metadata": {
    "collapsed": false,
    "pycharm": {
     "name": "#%%\n"
    }
   }
  },
  {
   "cell_type": "code",
   "execution_count": 27,
   "outputs": [
    {
     "name": "stderr",
     "output_type": "stream",
     "text": [
      "2022-05-25 01:28:03,521 - root - INFO - train set shape: (1017209, 9)\n",
      "2022-05-25 01:28:03,523 - root - INFO - test set shape: (41088, 8)\n",
      "2022-05-25 01:28:03,524 - root - INFO - store set shape: (1115, 10)\n"
     ]
    }
   ],
   "source": [
    "logging.info('train set shape: %s', train_df.shape)\n",
    "logging.info('test set shape: %s', test_df.shape)\n",
    "logging.info('store set shape: %s', store_df.shape)"
   ],
   "metadata": {
    "collapsed": false,
    "pycharm": {
     "name": "#%%\n"
    }
   }
  },
  {
   "cell_type": "code",
   "execution_count": 28,
   "outputs": [
    {
     "name": "stdout",
     "output_type": "stream",
     "text": [
      "<class 'pandas.core.frame.DataFrame'>\n",
      "RangeIndex: 1017209 entries, 0 to 1017208\n",
      "Data columns (total 9 columns):\n",
      " #   Column         Non-Null Count    Dtype \n",
      "---  ------         --------------    ----- \n",
      " 0   Store          1017209 non-null  int64 \n",
      " 1   DayOfWeek      1017209 non-null  int64 \n",
      " 2   Date           1017209 non-null  object\n",
      " 3   Sales          1017209 non-null  int64 \n",
      " 4   Customers      1017209 non-null  int64 \n",
      " 5   Open           1017209 non-null  int64 \n",
      " 6   Promo          1017209 non-null  int64 \n",
      " 7   StateHoliday   1017209 non-null  object\n",
      " 8   SchoolHoliday  1017209 non-null  int64 \n",
      "dtypes: int64(7), object(2)\n",
      "memory usage: 69.8+ MB\n"
     ]
    }
   ],
   "source": [
    "train_df.info()"
   ],
   "metadata": {
    "collapsed": false,
    "pycharm": {
     "name": "#%%\n"
    }
   }
  },
  {
   "cell_type": "code",
   "execution_count": 29,
   "outputs": [
    {
     "name": "stdout",
     "output_type": "stream",
     "text": [
      "<class 'pandas.core.frame.DataFrame'>\n",
      "RangeIndex: 41088 entries, 0 to 41087\n",
      "Data columns (total 8 columns):\n",
      " #   Column         Non-Null Count  Dtype  \n",
      "---  ------         --------------  -----  \n",
      " 0   Id             41088 non-null  int64  \n",
      " 1   Store          41088 non-null  int64  \n",
      " 2   DayOfWeek      41088 non-null  int64  \n",
      " 3   Date           41088 non-null  object \n",
      " 4   Open           41077 non-null  float64\n",
      " 5   Promo          41088 non-null  int64  \n",
      " 6   StateHoliday   41088 non-null  object \n",
      " 7   SchoolHoliday  41088 non-null  int64  \n",
      "dtypes: float64(1), int64(5), object(2)\n",
      "memory usage: 2.5+ MB\n"
     ]
    }
   ],
   "source": [
    "test_df.info()"
   ],
   "metadata": {
    "collapsed": false,
    "pycharm": {
     "name": "#%%\n"
    }
   }
  },
  {
   "cell_type": "code",
   "execution_count": 30,
   "outputs": [
    {
     "name": "stdout",
     "output_type": "stream",
     "text": [
      "<class 'pandas.core.frame.DataFrame'>\n",
      "RangeIndex: 1115 entries, 0 to 1114\n",
      "Data columns (total 10 columns):\n",
      " #   Column                     Non-Null Count  Dtype  \n",
      "---  ------                     --------------  -----  \n",
      " 0   Store                      1115 non-null   int64  \n",
      " 1   StoreType                  1115 non-null   object \n",
      " 2   Assortment                 1115 non-null   object \n",
      " 3   CompetitionDistance        1112 non-null   float64\n",
      " 4   CompetitionOpenSinceMonth  761 non-null    float64\n",
      " 5   CompetitionOpenSinceYear   761 non-null    float64\n",
      " 6   Promo2                     1115 non-null   int64  \n",
      " 7   Promo2SinceWeek            571 non-null    float64\n",
      " 8   Promo2SinceYear            571 non-null    float64\n",
      " 9   PromoInterval              571 non-null    object \n",
      "dtypes: float64(5), int64(2), object(3)\n",
      "memory usage: 87.2+ KB\n"
     ]
    }
   ],
   "source": [
    "store_df.info()"
   ],
   "metadata": {
    "collapsed": false,
    "pycharm": {
     "name": "#%%\n"
    }
   }
  },
  {
   "cell_type": "markdown",
   "source": [
    "<h5> Merge the train/test sets with the stores set </h5>"
   ],
   "metadata": {
    "collapsed": false,
    "pycharm": {
     "name": "#%% md\n"
    }
   }
  },
  {
   "cell_type": "code",
   "execution_count": 31,
   "outputs": [],
   "source": [
    "full_train_df = pd.merge(left= train_df, right=store_df, how='inner', left_on='Store', right_on='Store')\n",
    "full_test_df = pd.merge(left= test_df, right=store_df, how='inner', left_on='Store', right_on='Store')"
   ],
   "metadata": {
    "collapsed": false,
    "pycharm": {
     "name": "#%%\n"
    }
   }
  },
  {
   "cell_type": "code",
   "execution_count": 32,
   "outputs": [
    {
     "name": "stderr",
     "output_type": "stream",
     "text": [
      "2022-05-25 01:34:14,284 - root - INFO - (1017209, 18)\n",
      "2022-05-25 01:34:14,286 - root - INFO - (41088, 17)\n"
     ]
    }
   ],
   "source": [
    "logging.info(full_train_df.shape)\n",
    "logging.info(full_test_df.shape)"
   ],
   "metadata": {
    "collapsed": false,
    "pycharm": {
     "name": "#%%\n"
    }
   }
  },
  {
   "cell_type": "markdown",
   "source": [
    "<h4>Preprocessing</h4>"
   ],
   "metadata": {
    "collapsed": false,
    "pycharm": {
     "name": "#%% md\n"
    }
   }
  },
  {
   "cell_type": "code",
   "execution_count": 38,
   "outputs": [
    {
     "data": {
      "text/plain": "Store                        False\nDayOfWeek                    False\nDate                         False\nSales                        False\nCustomers                    False\nOpen                         False\nPromo                        False\nStateHoliday                 False\nSchoolHoliday                False\nStoreType                    False\nAssortment                   False\nCompetitionDistance           True\nCompetitionOpenSinceMonth     True\nCompetitionOpenSinceYear      True\nPromo2                       False\nPromo2SinceWeek               True\nPromo2SinceYear               True\nPromoInterval                 True\ndtype: bool"
     },
     "execution_count": 38,
     "metadata": {},
     "output_type": "execute_result"
    }
   ],
   "source": [
    "full_train_df.isna().any()"
   ],
   "metadata": {
    "collapsed": false,
    "pycharm": {
     "name": "#%%\n"
    }
   }
  },
  {
   "cell_type": "code",
   "execution_count": 39,
   "outputs": [
    {
     "data": {
      "text/plain": "Store                             0\nDayOfWeek                         0\nDate                              0\nSales                             0\nCustomers                         0\nOpen                              0\nPromo                             0\nStateHoliday                      0\nSchoolHoliday                     0\nStoreType                         0\nAssortment                        0\nCompetitionDistance            2642\nCompetitionOpenSinceMonth    323348\nCompetitionOpenSinceYear     323348\nPromo2                            0\nPromo2SinceWeek              508031\nPromo2SinceYear              508031\nPromoInterval                508031\ndtype: int64"
     },
     "execution_count": 39,
     "metadata": {},
     "output_type": "execute_result"
    }
   ],
   "source": [
    "full_train_df.isna().sum()"
   ],
   "metadata": {
    "collapsed": false,
    "pycharm": {
     "name": "#%%\n"
    }
   }
  },
  {
   "cell_type": "code",
   "execution_count": 52,
   "outputs": [],
   "source": [
    "def preprocess_data(full_train_df, full_test_df):\n",
    "    # dependent and independent variables\n",
    "    global train_features, train_target, test_features\n",
    "    train_features = full_train_df.drop(['Sales'], axis=1)\n",
    "    train_target = full_train_df['Sales']\n",
    "    test_features = full_test_df.drop(['Id'], axis=1)\n",
    "    test_features['Customers'] = 0\n",
    "\n",
    "    #feature generation + transformations\n",
    "    def feature_generation(data):\n",
    "        data['Date'] = pd.to_datetime(data.Date)\n",
    "        data['Month'] = data.Date.dt.month.to_list()\n",
    "        data['Year'] = data.Date.dt.year.to_list()\n",
    "        data['Day'] = data.Date.dt.day.to_list()\n",
    "        data['WeekOfYear'] = data.Date.dt.weekofyear.to_list()\n",
    "        data['DayOfWeek'] = data.Date.dt.dayofweek.to_list()\n",
    "        data['weekday'] = 1\n",
    "        data.loc[data['DayOfWeek'] == 5, 'weekday'] = 0\n",
    "        data.loc[data['DayOfWeek'] == 6, 'weekday'] = 0\n",
    "\n",
    "        return data\n",
    "\n",
    "    train_features = feature_generation(train_features)\n",
    "    test_features = feature_generation(test_features)\n",
    "\n",
    "    # numerical and categorical columns\n",
    "    global categorical, numerical, timestamp\n",
    "    categorical = []\n",
    "    numerical = []\n",
    "    timestamp = []\n",
    "\n",
    "    for col in train_features.columns:\n",
    "        if train_features[col].dtype == object:\n",
    "            categorical.append(col)\n",
    "        elif train_features[col].dtype in ['int16', 'int32', 'int64', 'float16', 'float32', 'float64']:\n",
    "            numerical.append(col)\n",
    "        else:\n",
    "            timestamp.append(col)\n",
    "\n",
    "    # Keep selected columns only\n",
    "    my_cols = categorical + numerical + timestamp\n",
    "    train_features = train_features[my_cols].copy()\n",
    "    test_features = test_features[my_cols].copy()\n",
    "    features = pd.concat([train_features, test_features])\n",
    "\n",
    "    # change dtypes for uniformity in preprocessing\n",
    "    features.CompetitionOpenSinceMonth = features.CompetitionOpenSinceMonth.astype('Int64')\n",
    "    features.CompetitionOpenSinceYear = features.CompetitionOpenSinceYear.astype('Int64')\n",
    "    features.Promo2SinceWeek = features.Promo2SinceWeek.astype('Int64')\n",
    "    features.Promo2SinceYear = features.Promo2SinceYear.astype('Int64')\n",
    "    features[\"StateHoliday\"].loc[features[\"StateHoliday\"] == 0] = \"0\"\n",
    "\n",
    "    # ''' actual preprocessing: '''\n",
    "    # null values\n",
    "    # numerical null values\n",
    "    for col in ['CompetitionDistance', 'CompetitionOpenSinceMonth', 'CompetitionOpenSinceYear', 'Promo2SinceWeek', 'Promo2SinceYear']:\n",
    "        features[col] = features[col].fillna((int(features[col].mean())))\n",
    "\n",
    "    # categorical null values\n",
    "    for col in ['Open', 'PromoInterval']:\n",
    "        features[col] = features[col].fillna(features[col].mode()[0])\n",
    "\n",
    "    return features"
   ],
   "metadata": {
    "collapsed": false,
    "pycharm": {
     "name": "#%%\n"
    }
   }
  },
  {
   "cell_type": "code",
   "execution_count": 53,
   "outputs": [
    {
     "name": "stderr",
     "output_type": "stream",
     "text": [
      "/var/folders/68/y9l5p2ms1dz6vvvjggvffpbr0000gn/T/ipykernel_54749/274456982.py:15: FutureWarning: Series.dt.weekofyear and Series.dt.week have been deprecated. Please use Series.dt.isocalendar().week instead.\n",
      "  data['WeekOfYear'] = data.Date.dt.weekofyear.to_list()\n",
      "/var/folders/68/y9l5p2ms1dz6vvvjggvffpbr0000gn/T/ipykernel_54749/274456982.py:15: FutureWarning: Series.dt.weekofyear and Series.dt.week have been deprecated. Please use Series.dt.isocalendar().week instead.\n",
      "  data['WeekOfYear'] = data.Date.dt.weekofyear.to_list()\n",
      "/var/folders/68/y9l5p2ms1dz6vvvjggvffpbr0000gn/T/ipykernel_54749/274456982.py:51: SettingWithCopyWarning: \n",
      "A value is trying to be set on a copy of a slice from a DataFrame\n",
      "\n",
      "See the caveats in the documentation: https://pandas.pydata.org/pandas-docs/stable/user_guide/indexing.html#returning-a-view-versus-a-copy\n",
      "  features[\"StateHoliday\"].loc[features[\"StateHoliday\"] == 0] = \"0\"\n",
      "2022-05-25 08:59:42,954 - root - INFO - (1058297, 22)\n"
     ]
    },
    {
     "data": {
      "text/plain": "  StateHoliday StoreType Assortment    PromoInterval  Store  DayOfWeek  \\\n0            0         c          a  Jan,Apr,Jul,Oct      1          4   \n1            0         c          a  Jan,Apr,Jul,Oct      1          3   \n2            0         c          a  Jan,Apr,Jul,Oct      1          2   \n3            0         c          a  Jan,Apr,Jul,Oct      1          1   \n4            0         c          a  Jan,Apr,Jul,Oct      1          0   \n\n   Customers  Open  Promo  SchoolHoliday  ...  CompetitionOpenSinceYear  \\\n0        555   1.0      1              1  ...                      2008   \n1        546   1.0      1              1  ...                      2008   \n2        523   1.0      1              1  ...                      2008   \n3        560   1.0      1              1  ...                      2008   \n4        612   1.0      1              1  ...                      2008   \n\n   Promo2  Promo2SinceWeek  Promo2SinceYear  Month  Year  Day  WeekOfYear  \\\n0       0               23             2011      7  2015   31          31   \n1       0               23             2011      7  2015   30          31   \n2       0               23             2011      7  2015   29          31   \n3       0               23             2011      7  2015   28          31   \n4       0               23             2011      7  2015   27          31   \n\n   weekday       Date  \n0        1 2015-07-31  \n1        1 2015-07-30  \n2        1 2015-07-29  \n3        1 2015-07-28  \n4        1 2015-07-27  \n\n[5 rows x 22 columns]",
      "text/html": "<div>\n<style scoped>\n    .dataframe tbody tr th:only-of-type {\n        vertical-align: middle;\n    }\n\n    .dataframe tbody tr th {\n        vertical-align: top;\n    }\n\n    .dataframe thead th {\n        text-align: right;\n    }\n</style>\n<table border=\"1\" class=\"dataframe\">\n  <thead>\n    <tr style=\"text-align: right;\">\n      <th></th>\n      <th>StateHoliday</th>\n      <th>StoreType</th>\n      <th>Assortment</th>\n      <th>PromoInterval</th>\n      <th>Store</th>\n      <th>DayOfWeek</th>\n      <th>Customers</th>\n      <th>Open</th>\n      <th>Promo</th>\n      <th>SchoolHoliday</th>\n      <th>...</th>\n      <th>CompetitionOpenSinceYear</th>\n      <th>Promo2</th>\n      <th>Promo2SinceWeek</th>\n      <th>Promo2SinceYear</th>\n      <th>Month</th>\n      <th>Year</th>\n      <th>Day</th>\n      <th>WeekOfYear</th>\n      <th>weekday</th>\n      <th>Date</th>\n    </tr>\n  </thead>\n  <tbody>\n    <tr>\n      <th>0</th>\n      <td>0</td>\n      <td>c</td>\n      <td>a</td>\n      <td>Jan,Apr,Jul,Oct</td>\n      <td>1</td>\n      <td>4</td>\n      <td>555</td>\n      <td>1.0</td>\n      <td>1</td>\n      <td>1</td>\n      <td>...</td>\n      <td>2008</td>\n      <td>0</td>\n      <td>23</td>\n      <td>2011</td>\n      <td>7</td>\n      <td>2015</td>\n      <td>31</td>\n      <td>31</td>\n      <td>1</td>\n      <td>2015-07-31</td>\n    </tr>\n    <tr>\n      <th>1</th>\n      <td>0</td>\n      <td>c</td>\n      <td>a</td>\n      <td>Jan,Apr,Jul,Oct</td>\n      <td>1</td>\n      <td>3</td>\n      <td>546</td>\n      <td>1.0</td>\n      <td>1</td>\n      <td>1</td>\n      <td>...</td>\n      <td>2008</td>\n      <td>0</td>\n      <td>23</td>\n      <td>2011</td>\n      <td>7</td>\n      <td>2015</td>\n      <td>30</td>\n      <td>31</td>\n      <td>1</td>\n      <td>2015-07-30</td>\n    </tr>\n    <tr>\n      <th>2</th>\n      <td>0</td>\n      <td>c</td>\n      <td>a</td>\n      <td>Jan,Apr,Jul,Oct</td>\n      <td>1</td>\n      <td>2</td>\n      <td>523</td>\n      <td>1.0</td>\n      <td>1</td>\n      <td>1</td>\n      <td>...</td>\n      <td>2008</td>\n      <td>0</td>\n      <td>23</td>\n      <td>2011</td>\n      <td>7</td>\n      <td>2015</td>\n      <td>29</td>\n      <td>31</td>\n      <td>1</td>\n      <td>2015-07-29</td>\n    </tr>\n    <tr>\n      <th>3</th>\n      <td>0</td>\n      <td>c</td>\n      <td>a</td>\n      <td>Jan,Apr,Jul,Oct</td>\n      <td>1</td>\n      <td>1</td>\n      <td>560</td>\n      <td>1.0</td>\n      <td>1</td>\n      <td>1</td>\n      <td>...</td>\n      <td>2008</td>\n      <td>0</td>\n      <td>23</td>\n      <td>2011</td>\n      <td>7</td>\n      <td>2015</td>\n      <td>28</td>\n      <td>31</td>\n      <td>1</td>\n      <td>2015-07-28</td>\n    </tr>\n    <tr>\n      <th>4</th>\n      <td>0</td>\n      <td>c</td>\n      <td>a</td>\n      <td>Jan,Apr,Jul,Oct</td>\n      <td>1</td>\n      <td>0</td>\n      <td>612</td>\n      <td>1.0</td>\n      <td>1</td>\n      <td>1</td>\n      <td>...</td>\n      <td>2008</td>\n      <td>0</td>\n      <td>23</td>\n      <td>2011</td>\n      <td>7</td>\n      <td>2015</td>\n      <td>27</td>\n      <td>31</td>\n      <td>1</td>\n      <td>2015-07-27</td>\n    </tr>\n  </tbody>\n</table>\n<p>5 rows × 22 columns</p>\n</div>"
     },
     "execution_count": 53,
     "metadata": {},
     "output_type": "execute_result"
    }
   ],
   "source": [
    "features = preprocess_data(full_train_df, full_test_df)\n",
    "logging.info(features.shape)\n",
    "features.head()"
   ],
   "metadata": {
    "collapsed": false,
    "pycharm": {
     "name": "#%%\n"
    }
   }
  },
  {
   "cell_type": "code",
   "execution_count": 54,
   "outputs": [
    {
     "name": "stdout",
     "output_type": "stream",
     "text": [
      "<class 'pandas.core.frame.DataFrame'>\n",
      "Int64Index: 1058297 entries, 0 to 41087\n",
      "Data columns (total 22 columns):\n",
      " #   Column                     Non-Null Count    Dtype         \n",
      "---  ------                     --------------    -----         \n",
      " 0   StateHoliday               1058297 non-null  object        \n",
      " 1   StoreType                  1058297 non-null  object        \n",
      " 2   Assortment                 1058297 non-null  object        \n",
      " 3   PromoInterval              1058297 non-null  object        \n",
      " 4   Store                      1058297 non-null  int64         \n",
      " 5   DayOfWeek                  1058297 non-null  int64         \n",
      " 6   Customers                  1058297 non-null  int64         \n",
      " 7   Open                       1058297 non-null  float64       \n",
      " 8   Promo                      1058297 non-null  int64         \n",
      " 9   SchoolHoliday              1058297 non-null  int64         \n",
      " 10  CompetitionDistance        1058297 non-null  float64       \n",
      " 11  CompetitionOpenSinceMonth  1058297 non-null  Int64         \n",
      " 12  CompetitionOpenSinceYear   1058297 non-null  Int64         \n",
      " 13  Promo2                     1058297 non-null  int64         \n",
      " 14  Promo2SinceWeek            1058297 non-null  Int64         \n",
      " 15  Promo2SinceYear            1058297 non-null  Int64         \n",
      " 16  Month                      1058297 non-null  int64         \n",
      " 17  Year                       1058297 non-null  int64         \n",
      " 18  Day                        1058297 non-null  int64         \n",
      " 19  WeekOfYear                 1058297 non-null  int64         \n",
      " 20  weekday                    1058297 non-null  int64         \n",
      " 21  Date                       1058297 non-null  datetime64[ns]\n",
      "dtypes: Int64(4), datetime64[ns](1), float64(2), int64(11), object(4)\n",
      "memory usage: 189.7+ MB\n"
     ]
    }
   ],
   "source": [
    "features.info()"
   ],
   "metadata": {
    "collapsed": false,
    "pycharm": {
     "name": "#%%\n"
    }
   }
  },
  {
   "cell_type": "code",
   "execution_count": 55,
   "outputs": [
    {
     "data": {
      "text/plain": "['Store',\n 'DayOfWeek',\n 'Customers',\n 'Open',\n 'Promo',\n 'SchoolHoliday',\n 'CompetitionDistance',\n 'CompetitionOpenSinceMonth',\n 'CompetitionOpenSinceYear',\n 'Promo2',\n 'Promo2SinceWeek',\n 'Promo2SinceYear',\n 'Month',\n 'Year',\n 'Day',\n 'WeekOfYear',\n 'weekday']"
     },
     "execution_count": 55,
     "metadata": {},
     "output_type": "execute_result"
    }
   ],
   "source": [
    "numerical"
   ],
   "metadata": {
    "collapsed": false,
    "pycharm": {
     "name": "#%%\n"
    }
   }
  },
  {
   "cell_type": "markdown",
   "source": [
    "<h3>Reconstruct Train and Test sets</h3>"
   ],
   "metadata": {
    "collapsed": false,
    "pycharm": {
     "name": "#%% md\n"
    }
   }
  },
  {
   "cell_type": "code",
   "execution_count": 56,
   "outputs": [
    {
     "data": {
      "text/plain": "((1017209,), (1017209, 22), (1017209, 23), (41088, 22))"
     },
     "execution_count": 56,
     "metadata": {},
     "output_type": "execute_result"
    }
   ],
   "source": [
    "train_feat = features.iloc[:len(train_features), ]\n",
    "test_feat = features.iloc[len(train_features):, :]\n",
    "train_set = train_feat.copy()\n",
    "train_set['Sales'] = train_target\n",
    "train_target.shape, train_feat.shape, train_set.shape, test_feat.shape"
   ],
   "metadata": {
    "collapsed": false,
    "pycharm": {
     "name": "#%%\n"
    }
   }
  },
  {
   "cell_type": "markdown",
   "source": [
    "<h3>Non-Graphical Analysis</h3>"
   ],
   "metadata": {
    "collapsed": false,
    "pycharm": {
     "name": "#%% md\n"
    }
   }
  },
  {
   "cell_type": "code",
   "execution_count": 59,
   "outputs": [
    {
     "data": {
      "text/plain": "                               count         mean          std     min  \\\nStore                      1017209.0   558.429727   321.908651     1.0   \nDayOfWeek                  1017209.0     2.998341     1.997391     0.0   \nCustomers                  1017209.0   633.145946   464.411734     0.0   \nOpen                       1017209.0     0.830107     0.375539     0.0   \nPromo                      1017209.0     0.381515     0.485759     0.0   \nSchoolHoliday              1017209.0     0.178647     0.383056     0.0   \nCompetitionDistance        1017209.0  5430.049068  7705.297693    20.0   \nCompetitionOpenSinceMonth  1017209.0     7.152022     2.654703     1.0   \nCompetitionOpenSinceYear   1017209.0  2008.470820     4.959791  1900.0   \nPromo2                     1017209.0     0.500564     0.500000     0.0   \nPromo2SinceWeek            1017209.0    23.134698     9.973878     1.0   \nPromo2SinceYear            1017209.0  2011.376811     1.235230  2009.0   \nMonth                      1017209.0     5.846762     3.326097     1.0   \nYear                       1017209.0  2013.832292     0.777396  2013.0   \nDay                        1017209.0    15.702790     8.787638     1.0   \nWeekOfYear                 1017209.0    23.615515    14.433381     1.0   \nweekday                    1017209.0     0.715437     0.451206     0.0   \nSales                      1017209.0  5773.818972  3849.926175     0.0   \n\n                              25%     50%     75%      max  \nStore                       280.0   558.0   838.0   1115.0  \nDayOfWeek                     1.0     3.0     5.0      6.0  \nCustomers                   405.0   609.0   837.0   7388.0  \nOpen                          1.0     1.0     1.0      1.0  \nPromo                         0.0     0.0     1.0      1.0  \nSchoolHoliday                 0.0     0.0     0.0      1.0  \nCompetitionDistance         710.0  2330.0  6880.0  75860.0  \nCompetitionOpenSinceMonth     6.0     7.0     9.0     12.0  \nCompetitionOpenSinceYear   2008.0  2008.0  2011.0   2015.0  \nPromo2                        0.0     1.0     1.0      1.0  \nPromo2SinceWeek              22.0    23.0    23.0     50.0  \nPromo2SinceYear            2011.0  2011.0  2012.0   2015.0  \nMonth                         3.0     6.0     8.0     12.0  \nYear                       2013.0  2014.0  2014.0   2015.0  \nDay                           8.0    16.0    23.0     31.0  \nWeekOfYear                   11.0    22.0    35.0     52.0  \nweekday                       0.0     1.0     1.0      1.0  \nSales                      3727.0  5744.0  7856.0  41551.0  ",
      "text/html": "<div>\n<style scoped>\n    .dataframe tbody tr th:only-of-type {\n        vertical-align: middle;\n    }\n\n    .dataframe tbody tr th {\n        vertical-align: top;\n    }\n\n    .dataframe thead th {\n        text-align: right;\n    }\n</style>\n<table border=\"1\" class=\"dataframe\">\n  <thead>\n    <tr style=\"text-align: right;\">\n      <th></th>\n      <th>count</th>\n      <th>mean</th>\n      <th>std</th>\n      <th>min</th>\n      <th>25%</th>\n      <th>50%</th>\n      <th>75%</th>\n      <th>max</th>\n    </tr>\n  </thead>\n  <tbody>\n    <tr>\n      <th>Store</th>\n      <td>1017209.0</td>\n      <td>558.429727</td>\n      <td>321.908651</td>\n      <td>1.0</td>\n      <td>280.0</td>\n      <td>558.0</td>\n      <td>838.0</td>\n      <td>1115.0</td>\n    </tr>\n    <tr>\n      <th>DayOfWeek</th>\n      <td>1017209.0</td>\n      <td>2.998341</td>\n      <td>1.997391</td>\n      <td>0.0</td>\n      <td>1.0</td>\n      <td>3.0</td>\n      <td>5.0</td>\n      <td>6.0</td>\n    </tr>\n    <tr>\n      <th>Customers</th>\n      <td>1017209.0</td>\n      <td>633.145946</td>\n      <td>464.411734</td>\n      <td>0.0</td>\n      <td>405.0</td>\n      <td>609.0</td>\n      <td>837.0</td>\n      <td>7388.0</td>\n    </tr>\n    <tr>\n      <th>Open</th>\n      <td>1017209.0</td>\n      <td>0.830107</td>\n      <td>0.375539</td>\n      <td>0.0</td>\n      <td>1.0</td>\n      <td>1.0</td>\n      <td>1.0</td>\n      <td>1.0</td>\n    </tr>\n    <tr>\n      <th>Promo</th>\n      <td>1017209.0</td>\n      <td>0.381515</td>\n      <td>0.485759</td>\n      <td>0.0</td>\n      <td>0.0</td>\n      <td>0.0</td>\n      <td>1.0</td>\n      <td>1.0</td>\n    </tr>\n    <tr>\n      <th>SchoolHoliday</th>\n      <td>1017209.0</td>\n      <td>0.178647</td>\n      <td>0.383056</td>\n      <td>0.0</td>\n      <td>0.0</td>\n      <td>0.0</td>\n      <td>0.0</td>\n      <td>1.0</td>\n    </tr>\n    <tr>\n      <th>CompetitionDistance</th>\n      <td>1017209.0</td>\n      <td>5430.049068</td>\n      <td>7705.297693</td>\n      <td>20.0</td>\n      <td>710.0</td>\n      <td>2330.0</td>\n      <td>6880.0</td>\n      <td>75860.0</td>\n    </tr>\n    <tr>\n      <th>CompetitionOpenSinceMonth</th>\n      <td>1017209.0</td>\n      <td>7.152022</td>\n      <td>2.654703</td>\n      <td>1.0</td>\n      <td>6.0</td>\n      <td>7.0</td>\n      <td>9.0</td>\n      <td>12.0</td>\n    </tr>\n    <tr>\n      <th>CompetitionOpenSinceYear</th>\n      <td>1017209.0</td>\n      <td>2008.470820</td>\n      <td>4.959791</td>\n      <td>1900.0</td>\n      <td>2008.0</td>\n      <td>2008.0</td>\n      <td>2011.0</td>\n      <td>2015.0</td>\n    </tr>\n    <tr>\n      <th>Promo2</th>\n      <td>1017209.0</td>\n      <td>0.500564</td>\n      <td>0.500000</td>\n      <td>0.0</td>\n      <td>0.0</td>\n      <td>1.0</td>\n      <td>1.0</td>\n      <td>1.0</td>\n    </tr>\n    <tr>\n      <th>Promo2SinceWeek</th>\n      <td>1017209.0</td>\n      <td>23.134698</td>\n      <td>9.973878</td>\n      <td>1.0</td>\n      <td>22.0</td>\n      <td>23.0</td>\n      <td>23.0</td>\n      <td>50.0</td>\n    </tr>\n    <tr>\n      <th>Promo2SinceYear</th>\n      <td>1017209.0</td>\n      <td>2011.376811</td>\n      <td>1.235230</td>\n      <td>2009.0</td>\n      <td>2011.0</td>\n      <td>2011.0</td>\n      <td>2012.0</td>\n      <td>2015.0</td>\n    </tr>\n    <tr>\n      <th>Month</th>\n      <td>1017209.0</td>\n      <td>5.846762</td>\n      <td>3.326097</td>\n      <td>1.0</td>\n      <td>3.0</td>\n      <td>6.0</td>\n      <td>8.0</td>\n      <td>12.0</td>\n    </tr>\n    <tr>\n      <th>Year</th>\n      <td>1017209.0</td>\n      <td>2013.832292</td>\n      <td>0.777396</td>\n      <td>2013.0</td>\n      <td>2013.0</td>\n      <td>2014.0</td>\n      <td>2014.0</td>\n      <td>2015.0</td>\n    </tr>\n    <tr>\n      <th>Day</th>\n      <td>1017209.0</td>\n      <td>15.702790</td>\n      <td>8.787638</td>\n      <td>1.0</td>\n      <td>8.0</td>\n      <td>16.0</td>\n      <td>23.0</td>\n      <td>31.0</td>\n    </tr>\n    <tr>\n      <th>WeekOfYear</th>\n      <td>1017209.0</td>\n      <td>23.615515</td>\n      <td>14.433381</td>\n      <td>1.0</td>\n      <td>11.0</td>\n      <td>22.0</td>\n      <td>35.0</td>\n      <td>52.0</td>\n    </tr>\n    <tr>\n      <th>weekday</th>\n      <td>1017209.0</td>\n      <td>0.715437</td>\n      <td>0.451206</td>\n      <td>0.0</td>\n      <td>0.0</td>\n      <td>1.0</td>\n      <td>1.0</td>\n      <td>1.0</td>\n    </tr>\n    <tr>\n      <th>Sales</th>\n      <td>1017209.0</td>\n      <td>5773.818972</td>\n      <td>3849.926175</td>\n      <td>0.0</td>\n      <td>3727.0</td>\n      <td>5744.0</td>\n      <td>7856.0</td>\n      <td>41551.0</td>\n    </tr>\n  </tbody>\n</table>\n</div>"
     },
     "execution_count": 59,
     "metadata": {},
     "output_type": "execute_result"
    }
   ],
   "source": [
    "train_set.describe().transpose()"
   ],
   "metadata": {
    "collapsed": false,
    "pycharm": {
     "name": "#%%\n"
    }
   }
  },
  {
   "cell_type": "code",
   "execution_count": null,
   "outputs": [],
   "source": [],
   "metadata": {
    "collapsed": false,
    "pycharm": {
     "name": "#%%\n"
    }
   }
  }
 ],
 "metadata": {
  "kernelspec": {
   "display_name": "Python 3",
   "language": "python",
   "name": "python3"
  },
  "language_info": {
   "codemirror_mode": {
    "name": "ipython",
    "version": 2
   },
   "file_extension": ".py",
   "mimetype": "text/x-python",
   "name": "python",
   "nbconvert_exporter": "python",
   "pygments_lexer": "ipython2",
   "version": "2.7.6"
  }
 },
 "nbformat": 4,
 "nbformat_minor": 0
}