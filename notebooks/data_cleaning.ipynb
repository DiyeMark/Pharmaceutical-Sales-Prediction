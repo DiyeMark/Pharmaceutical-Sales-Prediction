{
 "cells": [
  {
   "cell_type": "markdown",
   "source": [
    "### Load the datasets"
   ],
   "metadata": {
    "collapsed": false,
    "pycharm": {
     "name": "#%% md\n"
    }
   }
  },
  {
   "cell_type": "code",
   "execution_count": 133,
   "outputs": [],
   "source": [
    "import warnings\n",
    "warnings.filterwarnings(\"ignore\")\n",
    "\n",
    "# Data Manipulation and Treatment\n",
    "import numpy as np\n",
    "import pandas as pd\n",
    "from datetime import datetime\n",
    "\n",
    "# Plotting and Visualizations\n",
    "import matplotlib.pyplot as plt\n",
    "%matplotlib inline\n",
    "import seaborn as sns\n",
    "from scipy import stats\n",
    "import itertools\n",
    "\n",
    "#Scikit-Learn for Modeling\n",
    "from sklearn import model_selection\n",
    "from sklearn.ensemble import RandomForestRegressor\n",
    "from sklearn import metrics"
   ],
   "metadata": {
    "collapsed": false,
    "pycharm": {
     "name": "#%%\n"
    }
   }
  },
  {
   "cell_type": "code",
   "execution_count": 134,
   "outputs": [],
   "source": [
    "def str_to_date(date):\n",
    "    return datetime.strptime(date, '%Y-%m-%d').date()"
   ],
   "metadata": {
    "collapsed": false,
    "pycharm": {
     "name": "#%%\n"
    }
   }
  },
  {
   "cell_type": "code",
   "execution_count": 135,
   "outputs": [],
   "source": [
    "#The training Set\n",
    "df_train = pd.read_csv(\"../data/train.csv\",sep=',', parse_dates=['Date']\n",
    "                       , date_parser=str_to_date,\n",
    "                       low_memory = False)"
   ],
   "metadata": {
    "collapsed": false,
    "pycharm": {
     "name": "#%%\n"
    }
   }
  },
  {
   "cell_type": "code",
   "execution_count": 136,
   "outputs": [],
   "source": [
    "#Additional Information on those stores\n",
    "df_store = pd.read_csv(\"../data/store.csv\"\n",
    "                       , low_memory = False)"
   ],
   "metadata": {
    "collapsed": false,
    "pycharm": {
     "name": "#%%\n"
    }
   }
  },
  {
   "cell_type": "markdown",
   "source": [
    "<h6> get rid of closed stores and prevent the models to train on them and get false guidance</h6>"
   ],
   "metadata": {
    "collapsed": false,
    "pycharm": {
     "name": "#%% md\n"
    }
   }
  },
  {
   "cell_type": "code",
   "execution_count": 137,
   "outputs": [],
   "source": [
    "df_train=df_train.drop(df_train[(df_train.Open == 0) & (df_train.Sales == 0)].index)"
   ],
   "metadata": {
    "collapsed": false,
    "pycharm": {
     "name": "#%%\n"
    }
   }
  },
  {
   "cell_type": "code",
   "execution_count": 138,
   "outputs": [],
   "source": [
    "#making sure the indexes are back to [0,1,2,3 etc.]\n",
    "df_train = df_train.reset_index(drop=True)"
   ],
   "metadata": {
    "collapsed": false,
    "pycharm": {
     "name": "#%%\n"
    }
   }
  },
  {
   "cell_type": "code",
   "execution_count": 139,
   "outputs": [
    {
     "name": "stdout",
     "output_type": "stream",
     "text": [
      "Our new training set has now 844392 rows \n"
     ]
    }
   ],
   "source": [
    "print (\"Our new training set has now {} rows \".format(df_train.shape[0]))"
   ],
   "metadata": {
    "collapsed": false,
    "pycharm": {
     "name": "#%%\n"
    }
   }
  },
  {
   "cell_type": "code",
   "execution_count": 140,
   "outputs": [
    {
     "data": {
      "text/plain": "count    844392.000000\nmean       6955.514291\nstd        3104.214680\nmin           0.000000\n25%        4859.000000\n50%        6369.000000\n75%        8360.000000\nmax       41551.000000\nName: Sales, dtype: float64"
     },
     "execution_count": 140,
     "metadata": {},
     "output_type": "execute_result"
    }
   ],
   "source": [
    "df_train.Sales.describe()\n",
    "#we see here a minimum of 0 which means some stores even opened got 0 sales on some days."
   ],
   "metadata": {
    "collapsed": false,
    "pycharm": {
     "name": "#%%\n"
    }
   }
  },
  {
   "cell_type": "code",
   "execution_count": 141,
   "outputs": [],
   "source": [
    "df_train=df_train.drop(df_train[(df_train.Open == 1) & (df_train.Sales == 0)].index)\n",
    "df_train = df_train.reset_index(drop=True)"
   ],
   "metadata": {
    "collapsed": false,
    "pycharm": {
     "name": "#%%\n"
    }
   }
  },
  {
   "cell_type": "code",
   "execution_count": 142,
   "outputs": [
    {
     "data": {
      "text/plain": "{'Mean': 6955.959133664481, 'Median': 6369.0}"
     },
     "execution_count": 142,
     "metadata": {},
     "output_type": "execute_result"
    },
    {
     "data": {
      "text/plain": "<Figure size 1224x252 with 2 Axes>",
      "image/png": "[encoded data removed]"
     },
     "metadata": {
      "needs_background": "light"
     },
     "output_type": "display_data"
    }
   ],
   "source": [
    "fig, axes = plt.subplots(1, 2, figsize=(17,3.5))\n",
    "axes[0].boxplot(df_train.Sales, showmeans=True,vert=False)\n",
    "axes[0].set_xlim(0,max(df_train[\"Sales\"]+1000))\n",
    "axes[0].set_title('Boxplot For Sales Values')\n",
    "axes[1].hist(df_train.Sales, cumulative=False, bins=20)\n",
    "axes[1].set_title(\"Sales histogram\")\n",
    "axes[1].set_xlim((min(df_train.Sales), max(df_train.Sales)))\n",
    "\n",
    "{\"Mean\":np.mean(df_train.Sales),\"Median\":np.median(df_train.Sales)}"
   ],
   "metadata": {
    "collapsed": false,
    "pycharm": {
     "name": "#%%\n"
    }
   }
  },
  {
   "cell_type": "code",
   "execution_count": 143,
   "outputs": [
    {
     "name": "stdout",
     "output_type": "stream",
     "text": [
      "3.21% of the time Rossman are actually having big sales day (considered outliers).\n",
      "0.00% of the time Rossman are actually having no sales at all.\n"
     ]
    }
   ],
   "source": [
    "print (\"{0:.2f}% of the time Rossman are actually having big sales day (considered outliers).\".format(df_train[df_train.Sales>14000].count()[0]/df_train.shape[0]*100))\n",
    "print (\"{0:.2f}% of the time Rossman are actually having no sales at all.\".format(df_train[df_train.Sales==0].count()[0]/df_train.shape[0]*100))"
   ],
   "metadata": {
    "collapsed": false,
    "pycharm": {
     "name": "#%%\n"
    }
   }
  },
  {
   "cell_type": "code",
   "execution_count": 144,
   "outputs": [
    {
     "data": {
      "text/plain": "count    844338.000000\nmean        762.777166\nstd         401.194153\nmin           8.000000\n25%         519.000000\n50%         676.000000\n75%         893.000000\nmax        7388.000000\nName: Customers, dtype: float64"
     },
     "execution_count": 144,
     "metadata": {},
     "output_type": "execute_result"
    }
   ],
   "source": [
    "df_train.Customers.describe()"
   ],
   "metadata": {
    "collapsed": false,
    "pycharm": {
     "name": "#%%\n"
    }
   }
  },
  {
   "cell_type": "code",
   "execution_count": 145,
   "outputs": [
    {
     "data": {
      "text/plain": "{'Mean': 762.777166253325, 'Median': 676.0}"
     },
     "execution_count": 145,
     "metadata": {},
     "output_type": "execute_result"
    },
    {
     "data": {
      "text/plain": "<Figure size 1224x252 with 2 Axes>",
      "image/png": "[encoded data removed]"
     },
     "metadata": {
      "needs_background": "light"
     },
     "output_type": "display_data"
    }
   ],
   "source": [
    "fig, axes = plt.subplots(1, 2, figsize=(17,3.5))\n",
    "axes[0].boxplot(df_train.Customers, showmeans=True,vert=False)\n",
    "axes[0].set_xlim(0,max(df_train[\"Customers\"]+100))\n",
    "axes[0].set_title('Boxplot For Customer Values')\n",
    "axes[1].hist(df_train.Customers, cumulative=False, bins=20)\n",
    "axes[1].set_title(\"Customers histogram\")\n",
    "axes[1].set_xlim((min(df_train.Customers), max(df_train.Customers)))\n",
    "\n",
    "{\"Mean\":np.mean(df_train.Customers),\"Median\":np.median(df_train.Customers)}"
   ],
   "metadata": {
    "collapsed": false,
    "pycharm": {
     "name": "#%%\n"
    }
   }
  },
  {
   "cell_type": "code",
   "execution_count": 146,
   "outputs": [
    {
     "name": "stdout",
     "output_type": "stream",
     "text": [
      "4.37% of the time Rossman are actually having customers more than usual (considered outliers).\n",
      "0.00% of the time Rossman are actually having no customers at all.\n"
     ]
    }
   ],
   "source": [
    "print (\"{0:.2f}% of the time Rossman are actually having customers more than usual (considered outliers).\".format(df_train[df_train.Customers>1500].count()[0]/df_train.shape[0]*100))\n",
    "print (\"{0:.2f}% of the time Rossman are actually having no customers at all.\".format(df_train[df_train.Customers==0].count()[0]/df_train.shape[0]*100))"
   ],
   "metadata": {
    "collapsed": false,
    "pycharm": {
     "name": "#%%\n"
    }
   }
  },
  {
   "cell_type": "code",
   "execution_count": 147,
   "outputs": [
    {
     "data": {
      "text/plain": "        Store  DayOfWeek       Date  Sales  Customers  Open  Promo  \\\n825160    817          2 2013-01-22  27190       7388     1      1   \n\n       StateHoliday  SchoolHoliday  \n825160            0              0  ",
      "text/html": "<div>\n<style scoped>\n    .dataframe tbody tr th:only-of-type {\n        vertical-align: middle;\n    }\n\n    .dataframe tbody tr th {\n        vertical-align: top;\n    }\n\n    .dataframe thead th {\n        text-align: right;\n    }\n</style>\n<table border=\"1\" class=\"dataframe\">\n  <thead>\n    <tr style=\"text-align: right;\">\n      <th></th>\n      <th>Store</th>\n      <th>DayOfWeek</th>\n      <th>Date</th>\n      <th>Sales</th>\n      <th>Customers</th>\n      <th>Open</th>\n      <th>Promo</th>\n      <th>StateHoliday</th>\n      <th>SchoolHoliday</th>\n    </tr>\n  </thead>\n  <tbody>\n    <tr>\n      <th>825160</th>\n      <td>817</td>\n      <td>2</td>\n      <td>2013-01-22</td>\n      <td>27190</td>\n      <td>7388</td>\n      <td>1</td>\n      <td>1</td>\n      <td>0</td>\n      <td>0</td>\n    </tr>\n  </tbody>\n</table>\n</div>"
     },
     "execution_count": 147,
     "metadata": {},
     "output_type": "execute_result"
    }
   ],
   "source": [
    "df_train[df_train.Customers>7000]"
   ],
   "metadata": {
    "collapsed": false,
    "pycharm": {
     "name": "#%%\n"
    }
   }
  },
  {
   "cell_type": "code",
   "execution_count": 148,
   "outputs": [
    {
     "data": {
      "text/plain": "0.8235517202000219"
     },
     "execution_count": 148,
     "metadata": {},
     "output_type": "execute_result"
    }
   ],
   "source": [
    "stats.pearsonr(df_train.Customers, df_train.Sales)[0]"
   ],
   "metadata": {
    "collapsed": false,
    "pycharm": {
     "name": "#%%\n"
    }
   }
  },
  {
   "cell_type": "code",
   "execution_count": 149,
   "outputs": [
    {
     "data": {
      "text/plain": "Store                        100.000000\nStoreType                    100.000000\nAssortment                   100.000000\nCompetitionDistance           99.730942\nCompetitionOpenSinceMonth     68.251121\nCompetitionOpenSinceYear      68.251121\nPromo2                       100.000000\nPromo2SinceWeek               51.210762\nPromo2SinceYear               51.210762\nPromoInterval                 51.210762\ndtype: float64"
     },
     "execution_count": 149,
     "metadata": {},
     "output_type": "execute_result"
    }
   ],
   "source": [
    "df_store.count(0)/df_store.shape[0] * 100"
   ],
   "metadata": {
    "collapsed": false,
    "pycharm": {
     "name": "#%%\n"
    }
   }
  },
  {
   "cell_type": "code",
   "execution_count": 150,
   "outputs": [
    {
     "data": {
      "text/plain": "     Store StoreType Assortment  CompetitionDistance  \\\n290    291         d          a                  NaN   \n621    622         a          c                  NaN   \n878    879         d          a                  NaN   \n\n     CompetitionOpenSinceMonth  CompetitionOpenSinceYear  Promo2  \\\n290                        NaN                       NaN       0   \n621                        NaN                       NaN       0   \n878                        NaN                       NaN       1   \n\n     Promo2SinceWeek  Promo2SinceYear    PromoInterval  \n290              NaN              NaN              NaN  \n621              NaN              NaN              NaN  \n878              5.0           2013.0  Feb,May,Aug,Nov  ",
      "text/html": "<div>\n<style scoped>\n    .dataframe tbody tr th:only-of-type {\n        vertical-align: middle;\n    }\n\n    .dataframe tbody tr th {\n        vertical-align: top;\n    }\n\n    .dataframe thead th {\n        text-align: right;\n    }\n</style>\n<table border=\"1\" class=\"dataframe\">\n  <thead>\n    <tr style=\"text-align: right;\">\n      <th></th>\n      <th>Store</th>\n      <th>StoreType</th>\n      <th>Assortment</th>\n      <th>CompetitionDistance</th>\n      <th>CompetitionOpenSinceMonth</th>\n      <th>CompetitionOpenSinceYear</th>\n      <th>Promo2</th>\n      <th>Promo2SinceWeek</th>\n      <th>Promo2SinceYear</th>\n      <th>PromoInterval</th>\n    </tr>\n  </thead>\n  <tbody>\n    <tr>\n      <th>290</th>\n      <td>291</td>\n      <td>d</td>\n      <td>a</td>\n      <td>NaN</td>\n      <td>NaN</td>\n      <td>NaN</td>\n      <td>0</td>\n      <td>NaN</td>\n      <td>NaN</td>\n      <td>NaN</td>\n    </tr>\n    <tr>\n      <th>621</th>\n      <td>622</td>\n      <td>a</td>\n      <td>c</td>\n      <td>NaN</td>\n      <td>NaN</td>\n      <td>NaN</td>\n      <td>0</td>\n      <td>NaN</td>\n      <td>NaN</td>\n      <td>NaN</td>\n    </tr>\n    <tr>\n      <th>878</th>\n      <td>879</td>\n      <td>d</td>\n      <td>a</td>\n      <td>NaN</td>\n      <td>NaN</td>\n      <td>NaN</td>\n      <td>1</td>\n      <td>5.0</td>\n      <td>2013.0</td>\n      <td>Feb,May,Aug,Nov</td>\n    </tr>\n  </tbody>\n</table>\n</div>"
     },
     "execution_count": 150,
     "metadata": {},
     "output_type": "execute_result"
    }
   ],
   "source": [
    "df_store[pd.isnull(df_store.CompetitionDistance)]\n",
    "#rows with missing values for Competition Distance, only 3 rows with null which makes sense since 99.73% is filled"
   ],
   "metadata": {
    "collapsed": false,
    "pycharm": {
     "name": "#%%\n"
    }
   }
  },
  {
   "cell_type": "code",
   "execution_count": 151,
   "outputs": [
    {
     "data": {
      "text/plain": "{'Mean': 5404.901079136691,\n 'Median': 2325.0,\n 'Standard Dev': 7659.7282732764415}"
     },
     "execution_count": 151,
     "metadata": {},
     "output_type": "execute_result"
    },
    {
     "data": {
      "text/plain": "<Figure size 1224x252 with 2 Axes>",
      "image/png": "[encoded data removed]"
     },
     "metadata": {
      "needs_background": "light"
     },
     "output_type": "display_data"
    }
   ],
   "source": [
    "df_store_check_distribution=df_store.drop(df_store[pd.isnull(df_store.CompetitionDistance)].index)\n",
    "fig, axes = plt.subplots(1, 2, figsize=(17,3.5))\n",
    "axes[0].boxplot(df_store_check_distribution.CompetitionDistance, showmeans=True,vert=False,)\n",
    "axes[0].set_xlim(0,max(df_store_check_distribution.CompetitionDistance+1000))\n",
    "axes[0].set_title('Boxplot For Closest Competition')\n",
    "axes[1].hist(df_store_check_distribution.CompetitionDistance, cumulative=False, bins=30)\n",
    "axes[1].set_title(\"Closest Competition histogram\")\n",
    "axes[1].set_xlim((min(df_store_check_distribution.CompetitionDistance), max(df_store_check_distribution.CompetitionDistance)))\n",
    "{\"Mean\":np.nanmean(df_store.CompetitionDistance),\"Median\":np.nanmedian(df_store.CompetitionDistance),\"Standard Dev\":np.nanstd(df_store.CompetitionDistance)}\n",
    "#That's what i thought, very different values, let's see why"
   ],
   "metadata": {
    "collapsed": false,
    "pycharm": {
     "name": "#%%\n"
    }
   }
  },
  {
   "cell_type": "markdown",
   "source": [
    "<h6> It is realistically better to input the median value to the three Nan stores then the mean since the mean is biased by those outliers</h6>"
   ],
   "metadata": {
    "collapsed": false,
    "pycharm": {
     "name": "#%% md\n"
    }
   }
  },
  {
   "cell_type": "code",
   "execution_count": 152,
   "outputs": [],
   "source": [
    "df_store['CompetitionDistance'].fillna(df_store['CompetitionDistance'].median(), inplace = True)"
   ],
   "metadata": {
    "collapsed": false,
    "pycharm": {
     "name": "#%%\n"
    }
   }
  },
  {
   "cell_type": "markdown",
   "source": [
    "<h6>CompetitionOpenSinceMonth and CompetitionOpenSinceYear</h6>"
   ],
   "metadata": {
    "collapsed": false,
    "pycharm": {
     "name": "#%% md\n"
    }
   }
  },
  {
   "cell_type": "code",
   "execution_count": 153,
   "outputs": [],
   "source": [
    "df_store.CompetitionOpenSinceMonth.fillna(0, inplace = True)\n",
    "df_store.CompetitionOpenSinceYear.fillna(0,inplace=True)"
   ],
   "metadata": {
    "collapsed": false,
    "pycharm": {
     "name": "#%%\n"
    }
   }
  },
  {
   "cell_type": "markdown",
   "source": [
    "<h6>Promo2SinceWeek, Promo2SinceYear and PromoInterval</h6>"
   ],
   "metadata": {
    "collapsed": false,
    "pycharm": {
     "name": "#%% md\n"
    }
   }
  },
  {
   "cell_type": "code",
   "execution_count": 154,
   "outputs": [],
   "source": [
    "df_store.Promo2SinceWeek.fillna(0,inplace=True)\n",
    "df_store.Promo2SinceYear.fillna(0,inplace=True)\n",
    "df_store.PromoInterval.fillna(0,inplace=True)"
   ],
   "metadata": {
    "collapsed": false,
    "pycharm": {
     "name": "#%%\n"
    }
   }
  },
  {
   "cell_type": "code",
   "execution_count": 155,
   "outputs": [
    {
     "data": {
      "text/plain": "Store                        100.0\nStoreType                    100.0\nAssortment                   100.0\nCompetitionDistance          100.0\nCompetitionOpenSinceMonth    100.0\nCompetitionOpenSinceYear     100.0\nPromo2                       100.0\nPromo2SinceWeek              100.0\nPromo2SinceYear              100.0\nPromoInterval                100.0\ndtype: float64"
     },
     "execution_count": 155,
     "metadata": {},
     "output_type": "execute_result"
    }
   ],
   "source": [
    "df_store.count(0)/df_store.shape[0] * 100"
   ],
   "metadata": {
    "collapsed": false,
    "pycharm": {
     "name": "#%%\n"
    }
   }
  },
  {
   "cell_type": "markdown",
   "source": [
    "<h6>Now that we are done with clearing missing values, let's merge the two datasets.</h6>"
   ],
   "metadata": {
    "collapsed": false,
    "pycharm": {
     "name": "#%% md\n"
    }
   }
  },
  {
   "cell_type": "code",
   "execution_count": 156,
   "outputs": [
    {
     "name": "stdout",
     "output_type": "stream",
     "text": [
      "The Train_Store dataset has 844338 Rows and 18 Variables\n"
     ]
    }
   ],
   "source": [
    "df_train_store = pd.merge(df_train, df_store, how = 'left', on = 'Store')\n",
    "df_train_store.head()\n",
    "print (\"The Train_Store dataset has {} Rows and {} Variables\".format(str(df_train_store.shape[0]),str(df_train_store.shape[1])))"
   ],
   "metadata": {
    "collapsed": false,
    "pycharm": {
     "name": "#%%\n"
    }
   }
  },
  {
   "cell_type": "code",
   "execution_count": 157,
   "outputs": [],
   "source": [
    "df_train_store['SalesperCustomer']=df_train_store['Sales']/df_train_store['Customers']"
   ],
   "metadata": {
    "collapsed": false,
    "pycharm": {
     "name": "#%%\n"
    }
   }
  },
  {
   "cell_type": "code",
   "execution_count": 158,
   "outputs": [],
   "source": [
    "df_train_store['Month']=df_train_store.Date.dt.month\n",
    "df_train_store['Year']=df_train_store.Date.dt.year"
   ],
   "metadata": {
    "collapsed": false,
    "pycharm": {
     "name": "#%%\n"
    }
   }
  },
  {
   "cell_type": "code",
   "execution_count": 159,
   "outputs": [],
   "source": [
    "df_train_store['Day']=df_train_store.Date.dt.day\n",
    "del df_train_store[\"Date\"]"
   ],
   "metadata": {
    "collapsed": false,
    "pycharm": {
     "name": "#%%\n"
    }
   }
  },
  {
   "cell_type": "code",
   "execution_count": 160,
   "outputs": [
    {
     "data": {
      "text/plain": "(False, False, False)"
     },
     "execution_count": 160,
     "metadata": {},
     "output_type": "execute_result"
    }
   ],
   "source": [
    "df_train_store['StoreType'].isnull().any(),df_train_store['Assortment'].isnull().any(),df_train_store['StateHoliday'].isnull().any()\n",
    "#No Null values we can proceed with the transformation"
   ],
   "metadata": {
    "collapsed": false,
    "pycharm": {
     "name": "#%%\n"
    }
   }
  },
  {
   "cell_type": "code",
   "execution_count": 161,
   "outputs": [
    {
     "data": {
      "text/plain": "(a    457042\n d    258768\n c    112968\n b     15560\n Name: StoreType, dtype: int64,\n a    444875\n c    391254\n b      8209\n Name: Assortment, dtype: int64,\n 0    843428\n a       694\n b       145\n c        71\n Name: StateHoliday, dtype: int64)"
     },
     "execution_count": 161,
     "metadata": {},
     "output_type": "execute_result"
    }
   ],
   "source": [
    "df_train_store[\"StoreType\"].value_counts(),df_train_store[\"Assortment\"].value_counts(),df_train_store[\"StateHoliday\"].value_counts()"
   ],
   "metadata": {
    "collapsed": false,
    "pycharm": {
     "name": "#%%\n"
    }
   }
  },
  {
   "cell_type": "code",
   "execution_count": 162,
   "outputs": [],
   "source": [
    "df_train_store['StateHoliday'] = df_train_store['StateHoliday'].astype('category')\n",
    "df_train_store['Assortment'] = df_train_store['Assortment'].astype('category')\n",
    "df_train_store['StoreType'] = df_train_store['StoreType'].astype('category')\n",
    "df_train_store['PromoInterval']= df_train_store['PromoInterval'].astype('category')"
   ],
   "metadata": {
    "collapsed": false,
    "pycharm": {
     "name": "#%%\n"
    }
   }
  },
  {
   "cell_type": "code",
   "execution_count": 163,
   "outputs": [],
   "source": [
    "df_train_store['StateHoliday_cat'] = df_train_store['StateHoliday'].cat.codes\n",
    "df_train_store['Assortment_cat'] = df_train_store['Assortment'].cat.codes\n",
    "df_train_store['StoreType_cat'] = df_train_store['StoreType'].cat.codes\n",
    "df_train_store['PromoInterval_cat'] = df_train_store['PromoInterval'].cat.codes"
   ],
   "metadata": {
    "collapsed": false,
    "pycharm": {
     "name": "#%%\n"
    }
   }
  },
  {
   "cell_type": "code",
   "execution_count": 164,
   "outputs": [],
   "source": [
    "df_train_store['StateHoliday_cat'] = df_train_store['StateHoliday_cat'].astype('float')\n",
    "df_train_store['Assortment_cat'] = df_train_store['Assortment_cat'].astype('float')\n",
    "df_train_store['StoreType_cat'] = df_train_store['StoreType_cat'].astype('float')\n",
    "df_train_store['PromoInterval_cat'] = df_train_store['PromoInterval_cat'].astype('float')"
   ],
   "metadata": {
    "collapsed": false,
    "pycharm": {
     "name": "#%%\n"
    }
   }
  },
  {
   "cell_type": "code",
   "execution_count": 165,
   "outputs": [
    {
     "data": {
      "text/plain": "Store                           int64\nDayOfWeek                       int64\nSales                           int64\nCustomers                       int64\nOpen                            int64\nPromo                           int64\nStateHoliday                 category\nSchoolHoliday                   int64\nStoreType                    category\nAssortment                   category\nCompetitionDistance           float64\nCompetitionOpenSinceMonth     float64\nCompetitionOpenSinceYear      float64\nPromo2                          int64\nPromo2SinceWeek               float64\nPromo2SinceYear               float64\nPromoInterval                category\nSalesperCustomer              float64\nMonth                           int64\nYear                            int64\nDay                             int64\nStateHoliday_cat              float64\nAssortment_cat                float64\nStoreType_cat                 float64\nPromoInterval_cat             float64\ndtype: object"
     },
     "execution_count": 165,
     "metadata": {},
     "output_type": "execute_result"
    }
   ],
   "source": [
    "df_train_store.dtypes"
   ],
   "metadata": {
    "collapsed": false,
    "pycharm": {
     "name": "#%%\n"
    }
   }
  },
  {
   "cell_type": "code",
   "execution_count": 166,
   "outputs": [
    {
     "data": {
      "text/plain": "Index(['Store', 'DayOfWeek', 'Sales', 'Customers', 'Open', 'Promo',\n       'StateHoliday', 'SchoolHoliday', 'StoreType', 'Assortment',\n       'CompetitionDistance', 'CompetitionOpenSinceMonth',\n       'CompetitionOpenSinceYear', 'Promo2', 'Promo2SinceWeek',\n       'Promo2SinceYear', 'PromoInterval', 'SalesperCustomer', 'Month', 'Year',\n       'Day', 'StateHoliday_cat', 'Assortment_cat', 'StoreType_cat',\n       'PromoInterval_cat'],\n      dtype='object')"
     },
     "execution_count": 166,
     "metadata": {},
     "output_type": "execute_result"
    }
   ],
   "source": [
    "df_train_store.columns"
   ],
   "metadata": {
    "collapsed": false,
    "pycharm": {
     "name": "#%%\n"
    }
   }
  },
  {
   "cell_type": "code",
   "execution_count": 167,
   "outputs": [],
   "source": [
    "df_train_store['CompetitionOpenSince'] = np.where((df_train_store['CompetitionOpenSinceMonth']==0) & (df_train_store['CompetitionOpenSinceYear']==0) , 0,(df_train_store.Month - df_train_store.CompetitionOpenSinceMonth) + (12 * (df_train_store.Year - df_train_store.CompetitionOpenSinceYear)))"
   ],
   "metadata": {
    "collapsed": false,
    "pycharm": {
     "name": "#%%\n"
    }
   }
  },
  {
   "cell_type": "code",
   "execution_count": 168,
   "outputs": [],
   "source": [
    "#now that CompetitionOpenSince is created\n",
    "#we can get rid of `CompetitionOpenSinceYear` and `CompetitionOpenSinceMonth`\n",
    "del df_train_store['CompetitionOpenSinceYear']\n",
    "del df_train_store['CompetitionOpenSinceMonth']"
   ],
   "metadata": {
    "collapsed": false,
    "pycharm": {
     "name": "#%%\n"
    }
   }
  },
  {
   "cell_type": "markdown",
   "source": [
    "##### The StateHoliday is not very important to distinguish (what type of holiday) and can be merged in a binary variable called is_holiday_state"
   ],
   "metadata": {
    "collapsed": false,
    "pycharm": {
     "name": "#%% md\n"
    }
   }
  },
  {
   "cell_type": "code",
   "execution_count": 169,
   "outputs": [],
   "source": [
    "df_train_store[\"is_holiday_state\"] = df_train_store['StateHoliday'].map({\"0\": 0, \"a\": 1, \"b\": 1, \"c\": 1})"
   ],
   "metadata": {
    "collapsed": false,
    "pycharm": {
     "name": "#%%\n"
    }
   }
  },
  {
   "cell_type": "code",
   "execution_count": 170,
   "outputs": [],
   "source": [
    "del df_train_store['StateHoliday_cat']"
   ],
   "metadata": {
    "collapsed": false,
    "pycharm": {
     "name": "#%%\n"
    }
   }
  },
  {
   "cell_type": "code",
   "execution_count": 171,
   "outputs": [],
   "source": [
    "df_train_store=pd.get_dummies(df_train_store, columns=[\"Assortment\", \"StoreType\",\"PromoInterval\"], prefix=[\"is_Assortment\", \"is_StoreType\",\"is_PromoInteval\"])"
   ],
   "metadata": {
    "collapsed": false,
    "pycharm": {
     "name": "#%%\n"
    }
   }
  },
  {
   "cell_type": "code",
   "execution_count": 172,
   "outputs": [],
   "source": [
    "del df_train_store['Assortment_cat']\n",
    "del df_train_store['StoreType_cat']\n",
    "del df_train_store['PromoInterval_cat']"
   ],
   "metadata": {
    "collapsed": false,
    "pycharm": {
     "name": "#%%\n"
    }
   }
  },
  {
   "cell_type": "code",
   "execution_count": 173,
   "outputs": [
    {
     "data": {
      "text/plain": "Index(['Store', 'DayOfWeek', 'Sales', 'Customers', 'Open', 'Promo',\n       'StateHoliday', 'SchoolHoliday', 'CompetitionDistance', 'Promo2',\n       'Promo2SinceWeek', 'Promo2SinceYear', 'SalesperCustomer', 'Month',\n       'Year', 'Day', 'CompetitionOpenSince', 'is_holiday_state',\n       'is_Assortment_a', 'is_Assortment_b', 'is_Assortment_c',\n       'is_StoreType_a', 'is_StoreType_b', 'is_StoreType_c', 'is_StoreType_d',\n       'is_PromoInteval_0', 'is_PromoInteval_Feb,May,Aug,Nov',\n       'is_PromoInteval_Jan,Apr,Jul,Oct', 'is_PromoInteval_Mar,Jun,Sept,Dec'],\n      dtype='object')"
     },
     "execution_count": 173,
     "metadata": {},
     "output_type": "execute_result"
    }
   ],
   "source": [
    "df_train_store.columns"
   ],
   "metadata": {
    "collapsed": false,
    "pycharm": {
     "name": "#%%\n"
    }
   }
  },
  {
   "cell_type": "markdown",
   "source": [
    "<h6>The Train set is ready to be fed to the RandomForest Algorithm</h6>"
   ],
   "metadata": {
    "collapsed": false,
    "pycharm": {
     "name": "#%% md\n"
    }
   }
  },
  {
   "cell_type": "code",
   "execution_count": 174,
   "outputs": [],
   "source": [
    "df_train_store.to_csv('../data/clean_train.csv')"
   ],
   "metadata": {
    "collapsed": false,
    "pycharm": {
     "name": "#%%\n"
    }
   }
  },
  {
   "cell_type": "markdown",
   "source": [
    "<h6>Let's do the same transformation for the test set now.</h6>"
   ],
   "metadata": {
    "collapsed": false,
    "pycharm": {
     "name": "#%% md\n"
    }
   }
  },
  {
   "cell_type": "code",
   "execution_count": 175,
   "outputs": [
    {
     "name": "stdout",
     "output_type": "stream",
     "text": [
      "The Test dataset has 41088 Rows and 8 Variables\n"
     ]
    }
   ],
   "source": [
    "df_test = pd.read_csv(\"../data/test.csv\",sep=',', parse_dates=['Date']\n",
    "                       , date_parser=str_to_date,\n",
    "                       low_memory = False)\n",
    "print (\"The Test dataset has {} Rows and {} Variables\".format(str(df_test.shape[0]),str(df_test.shape[1])))"
   ],
   "metadata": {
    "collapsed": false,
    "pycharm": {
     "name": "#%%\n"
    }
   }
  },
  {
   "cell_type": "code",
   "execution_count": 176,
   "outputs": [
    {
     "name": "stdout",
     "output_type": "stream",
     "text": [
      "The Test_Store dataset has 41088 Rows and 17 Variables\n"
     ]
    }
   ],
   "source": [
    "df_test.fillna(1, inplace = True)\n",
    "\n",
    "df_test_store = pd.merge(df_test, df_store, how = 'left', on = 'Store')\n",
    "print (\"The Test_Store dataset has {} Rows and {} Variables\".format(str(df_test_store.shape[0]),str(df_test_store.shape[1])))\n",
    "df_test_store['Month']=df_test_store.Date.dt.month\n",
    "df_test_store['Year']=df_test_store.Date.dt.year\n",
    "df_test_store['Day']=df_test_store.Date.dt.day\n",
    "\n",
    "df_test_store['StateHoliday'] = df_test_store['StateHoliday'].astype('category')\n",
    "df_test_store['Assortment'] = df_test_store['Assortment'].astype('category')\n",
    "df_test_store['StoreType'] = df_test_store['StoreType'].astype('category')\n",
    "df_test_store['PromoInterval']= df_test_store['PromoInterval'].astype('category')\n",
    "df_test_store['StateHoliday_cat'] = df_test_store['StateHoliday'].cat.codes\n",
    "df_test_store['Assortment_cat'] = df_test_store['Assortment'].cat.codes\n",
    "df_test_store['StoreType_cat'] = df_test_store['StoreType'].cat.codes\n",
    "df_test_store['PromoInterval_cat'] = df_test_store['PromoInterval'].cat.codes\n",
    "df_test_store['StateHoliday_cat'] = df_test_store['StateHoliday_cat'].astype('float')\n",
    "df_test_store['Assortment_cat'] = df_test_store['Assortment_cat'].astype('float')\n",
    "df_test_store['StoreType_cat'] = df_test_store['StoreType_cat'].astype('float')\n",
    "df_test_store['PromoInterval_cat'] = df_test_store['PromoInterval_cat'].astype('float')\n",
    "df_test_store['CompetitionOpenSince'] = np.where((df_test_store['CompetitionOpenSinceMonth']==0) & (df_test_store['CompetitionOpenSinceYear']==0) , 0,(df_test_store.Month - df_test_store.CompetitionOpenSinceMonth) + (12 * (df_test_store.Year - df_test_store.CompetitionOpenSinceYear)) )\n",
    "df_test_store[\"is_holiday_state\"] = df_test_store['StateHoliday'].map({\"0\": 0, \"a\": 1, \"b\": 1, \"c\": 1})\n",
    "df_test_store=pd.get_dummies(df_test_store, columns=[\"Assortment\", \"StoreType\",\"PromoInterval\"], prefix=[\"is_Assortment\", \"is_StoreType\",\"is_PromoInteval\"])"
   ],
   "metadata": {
    "collapsed": false,
    "pycharm": {
     "name": "#%%\n"
    }
   }
  },
  {
   "cell_type": "code",
   "execution_count": 177,
   "outputs": [],
   "source": [
    "del df_test_store[\"Date\"]\n",
    "del df_test_store['CompetitionOpenSinceYear']\n",
    "del df_test_store['CompetitionOpenSinceMonth']\n",
    "\n",
    "del df_test_store['StateHoliday_cat']\n",
    "\n",
    "del df_test_store['Assortment_cat']\n",
    "del df_test_store['StoreType_cat']\n",
    "del df_test_store['PromoInterval_cat']\n",
    "\n",
    "del df_test_store['StateHoliday']\n",
    "\n",
    "del df_train_store['StateHoliday']"
   ],
   "metadata": {
    "collapsed": false,
    "pycharm": {
     "name": "#%%\n"
    }
   }
  },
  {
   "cell_type": "code",
   "execution_count": 178,
   "outputs": [
    {
     "data": {
      "text/plain": "Index(['Id', 'Store', 'DayOfWeek', 'Open', 'Promo', 'SchoolHoliday',\n       'CompetitionDistance', 'Promo2', 'Promo2SinceWeek', 'Promo2SinceYear',\n       'Month', 'Year', 'Day', 'CompetitionOpenSince', 'is_holiday_state',\n       'is_Assortment_a', 'is_Assortment_b', 'is_Assortment_c',\n       'is_StoreType_a', 'is_StoreType_b', 'is_StoreType_c', 'is_StoreType_d',\n       'is_PromoInteval_0', 'is_PromoInteval_Feb,May,Aug,Nov',\n       'is_PromoInteval_Jan,Apr,Jul,Oct', 'is_PromoInteval_Mar,Jun,Sept,Dec'],\n      dtype='object')"
     },
     "execution_count": 178,
     "metadata": {},
     "output_type": "execute_result"
    }
   ],
   "source": [
    "df_test_store.columns"
   ],
   "metadata": {
    "collapsed": false,
    "pycharm": {
     "name": "#%%\n"
    }
   }
  },
  {
   "cell_type": "code",
   "execution_count": 179,
   "outputs": [],
   "source": [
    "df_train_store.to_csv('../data/clean_test.csv')"
   ],
   "metadata": {
    "collapsed": false,
    "pycharm": {
     "name": "#%%\n"
    }
   }
  }
 ],
 "metadata": {
  "kernelspec": {
   "display_name": "Python 3",
   "language": "python",
   "name": "python3"
  },
  "language_info": {
   "codemirror_mode": {
    "name": "ipython",
    "version": 2
   },
   "file_extension": ".py",
   "mimetype": "text/x-python",
   "name": "python",
   "nbconvert_exporter": "python",
   "pygments_lexer": "ipython2",
   "version": "2.7.6"
  }
 },
 "nbformat": 4,
 "nbformat_minor": 0
}