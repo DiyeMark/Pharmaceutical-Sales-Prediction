{
 "cells": [
  {
   "cell_type": "code",
   "execution_count": null,
   "outputs": [],
   "source": [
    "import matplotlib.pyplot as plt\n",
    "import numpy as np\n",
    "import pandas as pd\n",
    "from numpy import array\n",
    "import datetime\n",
    "import time\n",
    "import calendar\n",
    "import tensorflow as tf\n",
    "from tensorflow import keras\n",
    "from tensorflow.keras import layers\n",
    "from keras.models import Sequential\n",
    "from keras.layers import Dense\n",
    "from keras.layers import LSTM\n",
    "from keras.layers import Dropout\n",
    "from sklearn.model_selection import train_test_split"
   ],
   "metadata": {
    "collapsed": false,
    "pycharm": {
     "name": "#%%\n"
    }
   }
  },
  {
   "cell_type": "markdown",
   "source": [
    "#### Read csv"
   ],
   "metadata": {
    "collapsed": false,
    "pycharm": {
     "name": "#%% md\n"
    }
   }
  },
  {
   "cell_type": "code",
   "execution_count": null,
   "outputs": [],
   "source": [
    "train = pd.read_csv('../data/train.csv')\n",
    "test = pd.read_csv('../data/test.csv')\n",
    "store = pd.read_csv('../data/store.csv')"
   ],
   "metadata": {
    "collapsed": false,
    "pycharm": {
     "name": "#%%\n"
    }
   }
  },
  {
   "cell_type": "code",
   "execution_count": null,
   "outputs": [],
   "source": [
    "train['Date']=pd.to_datetime(train['Date'],format='%Y-%m-%d')\n",
    "test['Date']=pd.to_datetime(test['Date'],format='%Y-%m-%d')"
   ],
   "metadata": {
    "collapsed": false,
    "pycharm": {
     "name": "#%%\n"
    }
   }
  },
  {
   "cell_type": "code",
   "execution_count": null,
   "outputs": [],
   "source": [
    "store['StoreType']= store['StoreType'].map({'a':1, 'b' : 2, 'c': 3, 'd' : 4})\n",
    "store['Assortment'] = store['Assortment'].map({'a':1, 'b' : 2, 'c': 3})"
   ],
   "metadata": {
    "collapsed": false,
    "pycharm": {
     "name": "#%%\n"
    }
   }
  },
  {
   "cell_type": "code",
   "execution_count": null,
   "outputs": [],
   "source": [
    "data = pd.merge(train, store, on='Store', how='left', copy=False)\n",
    "data_test = pd.merge(test, store, on='Store', how='left', copy=False)\n",
    "data.head()"
   ],
   "metadata": {
    "collapsed": false,
    "pycharm": {
     "name": "#%%\n"
    }
   }
  },
  {
   "cell_type": "code",
   "execution_count": null,
   "outputs": [],
   "source": [
    "data.dropna(inplace=True)\n",
    "data_test.dropna(inplace=True)\n",
    "data.drop_duplicates(inplace=True)\n",
    "data_test.drop_duplicates(inplace=True)"
   ],
   "metadata": {
    "collapsed": false,
    "pycharm": {
     "name": "#%%\n"
    }
   }
  },
  {
   "cell_type": "code",
   "execution_count": null,
   "outputs": [],
   "source": [
    "def checkpromomonth(row):\n",
    " if row['Month_Name'] in row['PromoInterval']:\n",
    "    return 1\n",
    " else:\n",
    "    return 0"
   ],
   "metadata": {
    "collapsed": false,
    "pycharm": {
     "name": "#%%\n"
    }
   }
  },
  {
   "cell_type": "code",
   "execution_count": null,
   "outputs": [],
   "source": [
    "def data_preprocess(data):\n",
    "  # remove remaining non numericvalues\n",
    "  data['StateHoliday']= data['StateHoliday'].map({'0':0, 0: 0,'a':1, 'b' : 2, 'c': 3})\n",
    "  #date preprocessing\n",
    "  data['Date'] = pd.to_datetime(data['Date'])\n",
    "  data['Year'] = data['Date'].dt.year\n",
    "  data['Month'] = data['Date'].dt.month\n",
    "  data['Month_Name'] = data['Month'].apply(lambda x: calendar.month_abbr[x])\n",
    "  data['Day'] = data['Date'].dt.day\n",
    "  data['Week'] = data['Date'].dt.weekofyear\n",
    "  #sort out the competetitionopen columns to one column\n",
    "  data['CompetitionOpenSinceYear'] = data.CompetitionOpenSinceYear.fillna(\n",
    "      1900).astype(np.int32)\n",
    "  data['CompetitionOpenSinceMonth'] = data.CompetitionOpenSinceMonth.fillna(\n",
    "      1).astype(np.int32)\n",
    "  data['CompetitionOpenSince'] = 12 * (data['Year']- data['CompetitionOpenSinceYear']) + (data['Month'] - data['CompetitionOpenSinceMonth'])\n",
    "  data['CompetitionOpenSince'] = data['CompetitionOpenSince'].apply(lambda x: x if x > 0 else 0)\n",
    "  #same with promo\n",
    "  data['Promo2SinceYear'] = data.Promo2SinceYear.fillna(1900).astype(np.int32)\n",
    "  data['Promo2SinceWeek'] = data.Promo2SinceWeek.fillna(1).astype(np.int32)\n",
    "  data['Promo2OpenSince'] = 12 * (data['Year'] - data['Promo2SinceYear']) + (data['Week'] - data['Promo2SinceWeek']) / float(4)\n",
    "  data['Promo2OpenSince'] = data['Promo2OpenSince'].apply(lambda x: x if x > 0 else 0)\n",
    "  data['IsPromoMonth'] =  data.apply(lambda row: checkpromomonth(row),axis=1)\n",
    "  #drop columns that have been used in newly generated columns\n",
    "  data.drop(['CompetitionOpenSinceMonth', 'CompetitionOpenSinceYear'], axis = 1,  inplace = True)\n",
    "  data.drop(['Promo2SinceYear', 'Promo2SinceWeek','Promo2'], axis = 1,  inplace = True)\n",
    "  data.drop(['Date', 'Month_Name','PromoInterval'], axis = 1,  inplace = True)\n",
    "  data.drop(['Year', 'Month'], axis=1, inplace=True)"
   ],
   "metadata": {
    "collapsed": false,
    "pycharm": {
     "name": "#%%\n"
    }
   }
  },
  {
   "cell_type": "code",
   "execution_count": null,
   "outputs": [],
   "source": [
    "data_preprocess(data)"
   ],
   "metadata": {
    "collapsed": false,
    "pycharm": {
     "name": "#%%\n"
    }
   }
  },
  {
   "cell_type": "code",
   "execution_count": null,
   "outputs": [],
   "source": [
    "data_preprocess(data_test)"
   ],
   "metadata": {
    "collapsed": false,
    "pycharm": {
     "name": "#%%\n"
    }
   }
  },
  {
   "cell_type": "code",
   "execution_count": null,
   "outputs": [],
   "source": [
    "def data_normalize(data):\n",
    "    return (data - data.min()) / (data.max() - data.min())"
   ],
   "metadata": {
    "collapsed": false,
    "pycharm": {
     "name": "#%%\n"
    }
   }
  },
  {
   "cell_type": "code",
   "execution_count": null,
   "outputs": [],
   "source": [
    "data_n = data_normalize(data)\n",
    "data_test_n = data_normalize(data_test)"
   ],
   "metadata": {
    "collapsed": false,
    "pycharm": {
     "name": "#%%\n"
    }
   }
  },
  {
   "cell_type": "code",
   "execution_count": null,
   "outputs": [],
   "source": [
    "target_n = data_n['Sales']\n",
    "len(target_n)"
   ],
   "metadata": {
    "collapsed": false,
    "pycharm": {
     "name": "#%%\n"
    }
   }
  },
  {
   "cell_type": "code",
   "execution_count": null,
   "outputs": [],
   "source": [
    "data_n.drop(['Sales'], axis=1, inplace=True)\n",
    "data_n.head()"
   ],
   "metadata": {
    "collapsed": false,
    "pycharm": {
     "name": "#%%\n"
    }
   }
  },
  {
   "cell_type": "code",
   "execution_count": null,
   "outputs": [],
   "source": [
    "data_n.values.tolist()\n",
    "target_n.tolist()\n",
    "x_train,x_test,y_train,y_test = train_test_split(data_n,target_n, test_size=0.2, random_state=4)\n",
    "x_train.shape"
   ],
   "metadata": {
    "collapsed": false,
    "pycharm": {
     "name": "#%%\n"
    }
   }
  },
  {
   "cell_type": "code",
   "execution_count": null,
   "outputs": [],
   "source": [
    "x_train= np.array(x_train)\n",
    "y_train= np.array(y_train)\n",
    "\n",
    "x_train = x_train.reshape((1,259460, 15))\n",
    "y_train = y_train.reshape((1,259460, 1))"
   ],
   "metadata": {
    "collapsed": false,
    "pycharm": {
     "name": "#%%\n"
    }
   }
  },
  {
   "cell_type": "code",
   "execution_count": null,
   "outputs": [],
   "source": [
    "model = Sequential()"
   ],
   "metadata": {
    "collapsed": false,
    "pycharm": {
     "name": "#%%\n"
    }
   }
  },
  {
   "cell_type": "code",
   "execution_count": null,
   "outputs": [],
   "source": [
    "model.add(LSTM(16, input_shape=(x_train.shape[1], x_train.shape[2]),return_sequences=True))\n",
    "model.add(LSTM(1, return_sequences=False))\n",
    "model.add(Dense(1))\n",
    "\n",
    "model.compile(optimizer = 'adam', loss = 'mean_squared_error')"
   ],
   "metadata": {
    "collapsed": false,
    "pycharm": {
     "name": "#%%\n"
    }
   }
  },
  {
   "cell_type": "code",
   "execution_count": null,
   "outputs": [],
   "source": [
    "model.summary()"
   ],
   "metadata": {
    "collapsed": false,
    "pycharm": {
     "name": "#%%\n"
    }
   }
  },
  {
   "cell_type": "code",
   "execution_count": null,
   "outputs": [],
   "source": [
    "history = model.fit(x_train, y_train, epochs=1, batch_size=32, validation_data=(x_test, y_test))"
   ],
   "metadata": {
    "collapsed": false,
    "pycharm": {
     "name": "#%%\n"
    }
   }
  },
  {
   "cell_type": "code",
   "execution_count": null,
   "outputs": [],
   "source": [
    "results = model.predicts(x_test)"
   ],
   "metadata": {
    "collapsed": false,
    "pycharm": {
     "name": "#%%\n"
    }
   }
  },
  {
   "cell_type": "code",
   "execution_count": null,
   "outputs": [],
   "source": [
    "plt.scatter(range(20), results, c='r')\n",
    "plt.scatter(range(20), y_test,c='g')\n",
    "plt.show()"
   ],
   "metadata": {
    "collapsed": false,
    "pycharm": {
     "name": "#%%\n"
    }
   }
  }
 ],
 "metadata": {
  "kernelspec": {
   "display_name": "Python 3",
   "language": "python",
   "name": "python3"
  },
  "language_info": {
   "codemirror_mode": {
    "name": "ipython",
    "version": 2
   },
   "file_extension": ".py",
   "mimetype": "text/x-python",
   "name": "python",
   "nbconvert_exporter": "python",
   "pygments_lexer": "ipython2",
   "version": "2.7.6"
  }
 },
 "nbformat": 4,
 "nbformat_minor": 0
}